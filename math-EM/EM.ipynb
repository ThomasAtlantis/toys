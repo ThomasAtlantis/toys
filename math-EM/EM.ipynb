{
 "cells": [
  {
   "cell_type": "markdown",
   "metadata": {},
   "source": [
    "### Expaction-Maximization\n",
    "\n",
    "通常在一些机器学习应用里，我们都是给定一些数据，利用极大似然估计出模型的参数。但在某些情况下我们有一部分数据是未知的，模型也是未知的，这个时候可以通过 EM 算法来估计出隐含数据和模型参数、\n",
    "\n",
    "理解 EM 算法需要理解两个过程，一个过程是已知所有数据，进而估计模型参数；另一个过程是已知模型和一部分数据，计算出隐含数据。\n",
    "\n",
    "EM 的做法是启发式的、迭代式的：\n",
    "\n",
    "1. 随机假定一个模型，然后使用这个模型计算出隐含数据 （E step）\n",
    "2. 基于隐含数据，利用极大似然估计出新的模型参数（M step）\n",
    "\n",
    "这两步骤不断迭代，直至收敛。"
   ]
  },
  {
   "cell_type": "code",
   "execution_count": 1,
   "metadata": {},
   "outputs": [],
   "source": [
    "from collections import defaultdict\n",
    "\n",
    "import matplotlib.pyplot as plt\n",
    "import numpy as np"
   ]
  },
  {
   "cell_type": "code",
   "execution_count": 2,
   "metadata": {},
   "outputs": [],
   "source": [
    "# data preparation\n",
    "cluster1 = np.random.multivariate_normal([1, 2], [[1, 0], [0, 1]], 50)\n",
    "cluster2 = np.random.multivariate_normal([3, 4], [[1, 0], [0, 1]], 50)\n",
    "cluster3 = np.random.multivariate_normal([7, 7], [[1, 0], [0, 1]], 50)\n",
    "data = np.vstack([cluster1, cluster2, cluster3])"
   ]
  },
  {
   "cell_type": "code",
   "execution_count": 3,
   "metadata": {},
   "outputs": [],
   "source": [
    "def plot(data):\n",
    "    data = np.array(data)\n",
    "    plt.scatter(data[:, 0], data[:, 1])"
   ]
  },
  {
   "cell_type": "code",
   "execution_count": 4,
   "metadata": {},
   "outputs": [
    {
     "data": {
      "image/png": "[encoded data removed]",
      "text/plain": [
       "<Figure size 432x288 with 1 Axes>"
      ]
     },
     "metadata": {
      "needs_background": "light"
     },
     "output_type": "display_data"
    }
   ],
   "source": [
    "for c in [cluster1, cluster2, cluster3]:\n",
    "    plot(c)"
   ]
  },
  {
   "cell_type": "markdown",
   "metadata": {},
   "source": [
    "### KMeans"
   ]
  },
  {
   "cell_type": "code",
   "execution_count": 5,
   "metadata": {},
   "outputs": [],
   "source": [
    "class KMeans:\n",
    "    def __init__(self, k, max_try=5, max_iters=100, tol=1e-8):\n",
    "        self.k = k\n",
    "        self.max_try = max_try\n",
    "        self.max_iters = max_iters\n",
    "        self.tol = tol\n",
    "        \n",
    "    def fit(self, x):\n",
    "        best_score, best_res = None, None\n",
    "        for _ in range(self.max_try):\n",
    "            score, res = self._fit_one_round(x)\n",
    "            if not best_score or score > best:\n",
    "                best_score = score\n",
    "                best_res = res\n",
    "        return res\n",
    "    \n",
    "    def _fit_one_round(self, x):\n",
    "        centers = x[np.random.choice(range(len(x)), size=self.k)]\n",
    "        for i in range(self.max_iters):\n",
    "            # E step\n",
    "            cls_dict = defaultdict(list)\n",
    "            for sample in x:\n",
    "                c = np.argmin([self._dist(sample, center) for center in centers])\n",
    "                cls_dict[c].append(sample)\n",
    "            # M step\n",
    "            new_centers = np.array([np.mean(samples, 0) for samples in cls_dict.values()])\n",
    "            dist = self._dist(centers, new_centers)\n",
    "            if dist < self.tol:\n",
    "                break\n",
    "            centers = new_centers\n",
    "        return -dist, (new_centers, cls_dict)\n",
    "    \n",
    "    def _dist(self, a, b):\n",
    "        return np.mean((a - b) ** 2)"
   ]
  },
  {
   "cell_type": "code",
   "execution_count": 6,
   "metadata": {},
   "outputs": [],
   "source": [
    "kmeans = KMeans(k=3)\n",
    "centers, cls_dict = kmeans.fit(data)"
   ]
  },
  {
   "cell_type": "code",
   "execution_count": 7,
   "metadata": {},
   "outputs": [
    {
     "data": {
      "image/png": "[encoded data removed]",
      "text/plain": [
       "<Figure size 432x288 with 1 Axes>"
      ]
     },
     "metadata": {
      "needs_background": "light"
     },
     "output_type": "display_data"
    }
   ],
   "source": [
    "for samples in cls_dict.values():\n",
    "    plot(samples)"
   ]
  },
  {
   "cell_type": "markdown",
   "metadata": {},
   "source": [
    "### Gaussian Mixture Model"
   ]
  },
  {
   "cell_type": "code",
   "execution_count": 44,
   "metadata": {},
   "outputs": [],
   "source": [
    "class GM:\n",
    "    def __init__(self, k, max_iters=100):\n",
    "        self.k = k\n",
    "        self.max_iters = max_iters\n",
    "        \n",
    "    def fit(self, x):\n",
    "        models = self._init_models()\n",
    "        for i in range(self.max_iters):\n",
    "            # E step\n",
    "            probs_matrix = []\n",
    "            for sample in x:\n",
    "                probs = [self._get_probs(sample, model) for model in models]\n",
    "                probs_matrix.append(probs)\n",
    "            probs_matrix = np.array(probs_matrix)\n",
    "            # M step\n",
    "            new_models = []\n",
    "            for i in range(len(models)):\n",
    "                new_models.append(self._update_model(probs_matrix[:, i:i + 1], x))\n",
    "            \n",
    "            models = new_models\n",
    "        centers = self._get_centers(probs_matrix, models)\n",
    "        return centers, probs_matrix\n",
    "    \n",
    "    def _init_models(self):\n",
    "        models = []\n",
    "        for i in range(self.k):\n",
    "            mean = np.array([1., 1.])\n",
    "            cov = np.array([[1., 0.], [0., 1.]])\n",
    "            models.append((mean, cov))\n",
    "        return models\n",
    "    \n",
    "    def _get_probs(self, sample, model):\n",
    "        mean, cov = model\n",
    "        return np.exp(-0.5 * (sample - mean).T.dot(np.linalg.inv(cov + 1e-8 * np.eye(len(cov)))).dot(sample - mean)) / ((2 * np.pi) ** 2 * np.linalg.det(cov)) ** 0.5\n",
    "\n",
    "    def _update_model(self, p, x):\n",
    "        mean = np.mean(p * x, 0)\n",
    "        cov = np.cov(p * x, rowvar=0)\n",
    "        return (mean, cov)\n",
    "    \n",
    "    def _get_centers(self, probs, models):\n",
    "        return np.array([models[np.argmax(p)][0] for p in probs])"
   ]
  },
  {
   "cell_type": "code",
   "execution_count": 45,
   "metadata": {},
   "outputs": [
    {
     "name": "stderr",
     "output_type": "stream",
     "text": [
      "/Users/abbo/anaconda3/envs/lab/lib/python3.6/site-packages/ipykernel_launcher.py:34: RuntimeWarning: invalid value encountered in double_scalars\n"
     ]
    }
   ],
   "source": [
    "gm = GM(k=3)\n",
    "centers, _ = gm.fit(data)"
   ]
  }
 ],
 "metadata": {
  "kernelspec": {
   "display_name": "Python 3",
   "language": "python",
   "name": "python3"
  },
  "language_info": {
   "codemirror_mode": {
    "name": "ipython",
    "version": 3
   },
   "file_extension": ".py",
   "mimetype": "text/x-python",
   "name": "python",
   "nbconvert_exporter": "python",
   "pygments_lexer": "ipython3",
   "version": "3.6.9"
  }
 },
 "nbformat": 4,
 "nbformat_minor": 4
}
