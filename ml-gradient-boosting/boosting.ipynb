{
 "cells": [
  {
   "cell_type": "code",
   "execution_count": 1,
   "metadata": {},
   "outputs": [],
   "source": [
    "import time\n",
    "import numpy as np\n",
    "import pandas as pd\n",
    "import matplotlib.pyplot as plt\n",
    "\n",
    "from sklearn.tree import DecisionTreeRegressor, DecisionTreeClassifier\n",
    "from sklearn.ensemble import GradientBoostingRegressor, GradientBoostingClassifier\n",
    "from sklearn.metrics import r2_score, mean_squared_error, accuracy_score, f1_score, recall_score\n",
    "from sklearn.model_selection import train_test_split\n",
    "from sklearn.preprocessing import OneHotEncoder, LabelEncoder\n",
    "from sklearn.impute import SimpleImputer\n",
    "from sklearn.neural_network import MLPRegressor\n",
    "\n",
    "from xgboost import XGBClassifier, XGBRegressor"
   ]
  },
  {
   "cell_type": "code",
   "execution_count": 2,
   "metadata": {},
   "outputs": [],
   "source": [
    "def visualize(score_list):\n",
    "    train_score_list = [i['train_score'] for i in score_list]\n",
    "    valid_score_list = [i['valid_score'] for i in score_list]\n",
    "    plt.plot(train_score_list, label='train_score')\n",
    "    plt.plot(valid_score_list, label='valid_score')\n",
    "    plt.grid()\n",
    "    plt.legend()"
   ]
  },
  {
   "cell_type": "markdown",
   "metadata": {},
   "source": [
    "### Regression"
   ]
  },
  {
   "cell_type": "code",
   "execution_count": 3,
   "metadata": {},
   "outputs": [
    {
     "name": "stdout",
     "output_type": "stream",
     "text": [
      "(537577, 11) (537577,)\n",
      "(483819, 11) (483819,)\n",
      "(53758, 11) (53758,)\n"
     ]
    }
   ],
   "source": [
    "df = pd.read_csv('./BlackFriday.csv')\n",
    "X = df.loc[:, df.columns != 'Purchase'].copy()\n",
    "y = df.loc[:, df.columns == 'Purchase'].copy()\n",
    "\n",
    "for c in ['Product_ID', 'Gender', 'Age', 'City_Category', 'Stay_In_Current_City_Years']:\n",
    "    X[c] = LabelEncoder().fit_transform(X[c])\n",
    "\n",
    "X = SimpleImputer().fit_transform(X)\n",
    "y = y.values.reshape(-1)\n",
    "\n",
    "train_X, valid_X, train_y, valid_y = train_test_split(X, y, test_size=0.1)\n",
    "\n",
    "print(X.shape, y.shape)\n",
    "print(train_X.shape, train_y.shape)\n",
    "print(valid_X.shape, valid_y.shape)"
   ]
  },
  {
   "cell_type": "code",
   "execution_count": 4,
   "metadata": {},
   "outputs": [],
   "source": [
    "class MyGradientBoostingRegressor:\n",
    "    \n",
    "    def __init__(self, n_estimators=100, lr=0.1, max_depth=3, verbose=False):\n",
    "        self.n_estimators = n_estimators\n",
    "        self.lr = lr\n",
    "        self.max_depth = max_depth\n",
    "        self.verbose = verbose\n",
    "        \n",
    "        self.estimator_list = None\n",
    "        self.is_first = True\n",
    "        self.F = None\n",
    "        self.score_list = list()\n",
    "        \n",
    "    def fit(self, train_X, train_y):\n",
    "        self.estimator_list = list()\n",
    "        self.F = np.zeros_like(train_y, dtype=float)\n",
    "        \n",
    "        for i in range(1, self.n_estimators + 1):\n",
    "            # get negative gradients\n",
    "            neg_grads = train_y - self.F\n",
    "            base = DecisionTreeRegressor(max_depth=self.max_depth)\n",
    "            base.fit(train_X, neg_grads)\n",
    "            train_preds = base.predict(train_X)\n",
    "            self.estimator_list.append(base)\n",
    "            \n",
    "            if self.is_first:\n",
    "                self.F = train_preds\n",
    "                self.is_first = False\n",
    "            else:\n",
    "                self.F += self.lr * train_preds\n",
    "                \n",
    "            train_score = r2_score(train_y, self.F)\n",
    "            valid_preds = self.predict(valid_X)\n",
    "            valid_score = r2_score(valid_y, valid_preds)\n",
    "            iter_score = dict(iter=i, train_score=train_score, valid_score=valid_score)\n",
    "            self.score_list.append(iter_score)\n",
    "            if self.verbose:\n",
    "                print(iter_score)\n",
    "                \n",
    "    def predict(self, X):\n",
    "        F = np.zeros_like(len(X), dtype=float)\n",
    "        is_first = True\n",
    "        for base in self.estimator_list:\n",
    "            preds = base.predict(X)\n",
    "            if is_first:\n",
    "                F = preds\n",
    "                is_first = False\n",
    "            else:\n",
    "                F += self.lr * preds\n",
    "        return F"
   ]
  },
  {
   "cell_type": "code",
   "execution_count": 5,
   "metadata": {},
   "outputs": [
    {
     "name": "stdout",
     "output_type": "stream",
     "text": [
      "GradientBoostingRegressor train_score: 0.7106 valid_score: 0.7037\n",
      "MyGradientBoostingRegressor train_score: 0.7121 valid_score: 0.7054\n"
     ]
    }
   ],
   "source": [
    "model = GradientBoostingRegressor(n_estimators=300, max_depth=5)\n",
    "model.fit(train_X, train_y)\n",
    "print('GradientBoostingRegressor train_score: {:.4f} valid_score: {:.4f}'.format(\n",
    "    r2_score(train_y, model.predict(train_X)), r2_score(valid_y, model.predict(valid_X))))\n",
    "\n",
    "model = MyGradientBoostingRegressor(n_estimators=300, max_depth=5)\n",
    "model.fit(train_X, train_y)\n",
    "print('MyGradientBoostingRegressor train_score: {:.4f} valid_score: {:.4f}'.format(\n",
    "    r2_score(train_y, model.predict(train_X)), r2_score(valid_y, model.predict(valid_X))))"
   ]
  },
  {
   "cell_type": "code",
   "execution_count": 6,
   "metadata": {},
   "outputs": [
    {
     "data": {
      "image/png": "[encoded data removed]",
      "text/plain": [
       "<Figure size 432x288 with 1 Axes>"
      ]
     },
     "metadata": {
      "needs_background": "light"
     },
     "output_type": "display_data"
    }
   ],
   "source": [
    "visualize(model.score_list)"
   ]
  },
  {
   "cell_type": "markdown",
   "metadata": {},
   "source": [
    "---"
   ]
  },
  {
   "cell_type": "markdown",
   "metadata": {},
   "source": [
    "### Classification"
   ]
  },
  {
   "cell_type": "code",
   "execution_count": 7,
   "metadata": {},
   "outputs": [
    {
     "name": "stdout",
     "output_type": "stream",
     "text": [
      "(303, 12) (303,)\n",
      "(242, 12) (242,)\n",
      "(61, 12) (61,)\n"
     ]
    },
    {
     "name": "stderr",
     "output_type": "stream",
     "text": [
      "/Users/abbo/anaconda3/envs/dev/lib/python3.6/site-packages/sklearn/preprocessing/label.py:235: DataConversionWarning: A column-vector y was passed when a 1d array was expected. Please change the shape of y to (n_samples, ), for example using ravel().\n",
      "  y = column_or_1d(y, warn=True)\n"
     ]
    }
   ],
   "source": [
    "df = pd.read_csv('./heart.csv', index_col=0)\n",
    "\n",
    "X = df.loc[:, df.columns != 'target'].copy()\n",
    "y = df.loc[:, df.columns == 'target'].copy()\n",
    "\n",
    "X = X.values\n",
    "y = LabelEncoder().fit_transform(y)\n",
    "\n",
    "train_X, valid_X, train_y, valid_y = train_test_split(X, y, test_size=0.2)\n",
    "print(X.shape, y.shape)\n",
    "print(train_X.shape, train_y.shape)\n",
    "print(valid_X.shape, valid_y.shape)"
   ]
  },
  {
   "cell_type": "code",
   "execution_count": 8,
   "metadata": {},
   "outputs": [],
   "source": [
    "class MyGradientBoostingClassifier:\n",
    "    \n",
    "    def __init__(self, n_estimators=100, lr=0.1, max_depth=3, verbose=False):\n",
    "        self.n_estimators = n_estimators\n",
    "        self.lr = lr\n",
    "        self.max_depth = max_depth\n",
    "        self.verbose = verbose\n",
    "        \n",
    "        self.estimator_list = None\n",
    "        self.is_first = True\n",
    "        self.F = None\n",
    "        self.score_list = list()\n",
    "        \n",
    "    def fit(self, train_X, train_y):\n",
    "        self.estimator_list = list()\n",
    "        self.F = np.zeros_like(train_y, dtype=float)\n",
    "        \n",
    "        for i in range(1, self.n_estimators + 1):\n",
    "            # get negative gradients\n",
    "            neg_grads = train_y - self.logit(self.F)\n",
    "            base = DecisionTreeRegressor(max_depth=self.max_depth)\n",
    "            base.fit(train_X, neg_grads)\n",
    "            train_preds = base.predict(train_X)\n",
    "            self.estimator_list.append(base)\n",
    "            \n",
    "            if self.is_first:\n",
    "                self.F = train_preds\n",
    "                self.is_first = False\n",
    "            else:\n",
    "                self.F += self.lr * train_preds\n",
    "                \n",
    "            train_preds = self.logit(self.F) > 0.5\n",
    "            train_score = r2_score(train_y, train_preds)\n",
    "            valid_preds = self.predict(valid_X)\n",
    "            valid_score = r2_score(valid_y, valid_preds)\n",
    "            iter_score = dict(iter=i, train_score=train_score, valid_score=valid_score)\n",
    "            self.score_list.append(iter_score)\n",
    "            if self.verbose:\n",
    "                print(iter_score)\n",
    "                \n",
    "    def predict(self, X):\n",
    "        F = np.zeros_like(len(X), dtype=float)\n",
    "        is_first = True\n",
    "        for base in self.estimator_list:\n",
    "            preds = base.predict(X)\n",
    "            if is_first:\n",
    "                F = preds\n",
    "                is_first = False\n",
    "            else:\n",
    "                F += self.lr * preds\n",
    "        return self.logit(F) > 0.5\n",
    "    \n",
    "    @staticmethod\n",
    "    def logit(F):\n",
    "        return 1.0 / (1.0 + np.exp(-F))"
   ]
  },
  {
   "cell_type": "code",
   "execution_count": 9,
   "metadata": {},
   "outputs": [
    {
     "name": "stdout",
     "output_type": "stream",
     "text": [
      "GradientBoostingRegressor train_score: 0.9834 valid_score: 0.7705\n",
      "MyGradientBoostingRegressor train_score: 0.7171 valid_score: 0.8361\n"
     ]
    }
   ],
   "source": [
    "model = GradientBoostingClassifier(n_estimators=100, max_depth=3)\n",
    "model.fit(train_X, train_y)\n",
    "print('GradientBoostingRegressor train_score: {:.4f} valid_score: {:.4f}'.format(\n",
    "    r2_score(train_y, model.predict(train_X)), accuracy_score(valid_y, model.predict(valid_X))))\n",
    "\n",
    "model = MyGradientBoostingClassifier(n_estimators=100, max_depth=3)\n",
    "model.fit(train_X, train_y)\n",
    "print('MyGradientBoostingRegressor train_score: {:.4f} valid_score: {:.4f}'.format(\n",
    "    r2_score(train_y, model.predict(train_X)), accuracy_score(valid_y, model.predict(valid_X))))"
   ]
  },
  {
   "cell_type": "code",
   "execution_count": 10,
   "metadata": {},
   "outputs": [
    {
     "data": {
      "image/png": "[encoded data removed]",
      "text/plain": [
       "<Figure size 432x288 with 1 Axes>"
      ]
     },
     "metadata": {
      "needs_background": "light"
     },
     "output_type": "display_data"
    }
   ],
   "source": [
    "visualize(model.score_list)"
   ]
  }
 ],
 "metadata": {
  "kernelspec": {
   "display_name": "dev",
   "language": "python",
   "name": "dev"
  },
  "language_info": {
   "codemirror_mode": {
    "name": "ipython",
    "version": 3
   },
   "file_extension": ".py",
   "mimetype": "text/x-python",
   "name": "python",
   "nbconvert_exporter": "python",
   "pygments_lexer": "ipython3",
   "version": "3.6.7"
  }
 },
 "nbformat": 4,
 "nbformat_minor": 2
}
